{
 "cells": [
  {
   "cell_type": "markdown",
   "metadata": {},
   "source": [
    "# Prompt Engineering using CodeLlamma API\n"
   ]
  },
  {
   "cell_type": "code",
   "execution_count": 1,
   "metadata": {},
   "outputs": [
    {
     "name": "stderr",
     "output_type": "stream",
     "text": [
      "/home/guru/miniconda3/envs/patchT5/lib/python3.8/site-packages/huggingface_hub/file_download.py:1132: FutureWarning: `resume_download` is deprecated and will be removed in version 1.0.0. Downloads always resume when possible. If you want to force a new download, use `force_download=True`.\n",
      "  warnings.warn(\n"
     ]
    },
    {
     "data": {
      "application/vnd.jupyter.widget-view+json": {
       "model_id": "c7636fe1ff6649288114e6c225322dd8",
       "version_major": 2,
       "version_minor": 0
      },
      "text/plain": [
       "tokenizer_config.json:   0%|          | 0.00/1.59k [00:00<?, ?B/s]"
      ]
     },
     "metadata": {},
     "output_type": "display_data"
    },
    {
     "data": {
      "application/vnd.jupyter.widget-view+json": {
       "model_id": "b9757c8c766a483bad3572db7774c909",
       "version_major": 2,
       "version_minor": 0
      },
      "text/plain": [
       "tokenizer_config.json:   0%|          | 0.00/1.59k [00:00<?, ?B/s]"
      ]
     },
     "metadata": {},
     "output_type": "display_data"
    },
    {
     "data": {
      "application/vnd.jupyter.widget-view+json": {
       "model_id": "a58921efedcc4798a4c378f464152f23",
       "version_major": 2,
       "version_minor": 0
      },
      "text/plain": [
       "tokenizer.model:   0%|          | 0.00/500k [00:00<?, ?B/s]"
      ]
     },
     "metadata": {},
     "output_type": "display_data"
    },
    {
     "data": {
      "application/vnd.jupyter.widget-view+json": {
       "model_id": "4f35576628324408bbd55babe6700874",
       "version_major": 2,
       "version_minor": 0
      },
      "text/plain": [
       "tokenizer.json:   0%|          | 0.00/1.84M [00:00<?, ?B/s]"
      ]
     },
     "metadata": {},
     "output_type": "display_data"
    },
    {
     "data": {
      "application/vnd.jupyter.widget-view+json": {
       "model_id": "58d848b74e55433c8782ff2383764612",
       "version_major": 2,
       "version_minor": 0
      },
      "text/plain": [
       "special_tokens_map.json:   0%|          | 0.00/411 [00:00<?, ?B/s]"
      ]
     },
     "metadata": {},
     "output_type": "display_data"
    },
    {
     "data": {
      "application/vnd.jupyter.widget-view+json": {
       "model_id": "775c131935864f59814abecb63759232",
       "version_major": 2,
       "version_minor": 0
      },
      "text/plain": [
       "tokenizer_config.json:   0%|          | 0.00/1.59k [00:00<?, ?B/s]"
      ]
     },
     "metadata": {},
     "output_type": "display_data"
    },
    {
     "data": {
      "application/vnd.jupyter.widget-view+json": {
       "model_id": "26003e3dcaaf49c3bcb782e837d21edb",
       "version_major": 2,
       "version_minor": 0
      },
      "text/plain": [
       "Loading checkpoint shards:   0%|          | 0/2 [00:00<?, ?it/s]"
      ]
     },
     "metadata": {},
     "output_type": "display_data"
    },
    {
     "name": "stderr",
     "output_type": "stream",
     "text": [
      "/home/guru/miniconda3/envs/patchT5/lib/python3.8/site-packages/huggingface_hub/file_download.py:1132: FutureWarning: `resume_download` is deprecated and will be removed in version 1.0.0. Downloads always resume when possible. If you want to force a new download, use `force_download=True`.\n",
      "  warnings.warn(\n"
     ]
    }
   ],
   "source": [
    "from transformers import AutoTokenizer, AutoModelForCausalLM\n",
    "import transformers\n",
    "import torch\n",
    "\n",
    "# most lightweight model of CodeLlama for instruction prompt\n",
    "model_id = \"codellama/CodeLlama-7b-Instruct-hf\"\n",
    "# model_id = '/Users/guru/research/LLMs/CodeLlama-70-Instruct-hf'\n",
    "tokenizer = AutoTokenizer.from_pretrained(model_id, force_download=True)\n",
    "model = AutoModelForCausalLM.from_pretrained(\n",
    "   model_id,\n",
    "   torch_dtype=torch.float16,\n",
    "   device_map=\"auto\",\n",
    ")"
   ]
  },
  {
   "cell_type": "code",
   "execution_count": 8,
   "metadata": {},
   "outputs": [
    {
     "name": "stderr",
     "output_type": "stream",
     "text": [
      "The attention mask and the pad token id were not set. As a consequence, you may observe unexpected behavior. Please pass your input's `attention_mask` to obtain reliable results.\n",
      "Setting `pad_token_id` to `eos_token_id`:2 for open-end generation.\n"
     ]
    },
    {
     "name": "stdout",
     "output_type": "stream",
     "text": [
      "Available device: cuda\n",
      "<s> [INST] <<SYS>>\n",
      "You are a helpful and honest code assistant expert in JavaScript. Please, provide all answers to programming questions in JavaScript\n",
      "<</SYS>>\n",
      "\n",
      "Write a function that computes the set of sums of all contiguous sublists of a given list. [/INST]  Here is a possible implementation of the function you described:\n",
      "```\n",
      "function computeSums(list) {\n",
      "  let sums = [];\n",
      "  for (let i = 0; i < list.length; i++) {\n",
      "    let sum = 0;\n",
      "    for (let j = i; j < list.length; j++) {\n",
      "      sum += list[j];\n",
      "    }\n",
      "    sums.push(sum);\n",
      "  }\n",
      "  return sums;\n",
      "}\n",
      "```\n",
      "This function takes a list as input and returns a list of the sums of all contiguous sublists of the input list.\n",
      "\n",
      "For example, if the input list is `[1, 2, 3, 4, 5]`, the output list would be `[15, 14, 12, 7, 0]`.\n",
      "\n",
      "Here's an explanation of how the function works:\n",
      "\n",
      "1. We initialize\n"
     ]
    }
   ],
   "source": [
    "chat = [\n",
    "   {\"role\": \"system\", \"content\": \"You are a helpful and honest code assistant expert in JavaScript. Please, provide all answers to programming questions in JavaScript\"},\n",
    "   {\"role\": \"user\", \"content\": \"Write a function that computes the set of sums of all contiguous sublists of a given list.\"},\n",
    "]\n",
    "# Assuming you're using CUDA, set the device\n",
    "device = torch.device(\"cuda\" if torch.cuda.is_available() else \"cpu\")\n",
    "print(f'Available device: {device}')\n",
    "\n",
    "inputs = tokenizer.apply_chat_template(chat, return_tensors=\"pt\").to(device)\n",
    "# inputs = tokenizer.apply_chat_template(chat, return_tensors=\"pt\")\n",
    "\n",
    "output = model.generate(input_ids=inputs, max_new_tokens=200)\n",
    "\n",
    "\n",
    "output = output[0].to(device)\n",
    "# model.save_pretrained(\"/Users/guru/research/LLMs/CodeLlama-7b-Instruct-hf-local\", safe_serialization=False)\n",
    "print(tokenizer.decode(output))"
   ]
  },
  {
   "cell_type": "code",
   "execution_count": 3,
   "metadata": {},
   "outputs": [],
   "source": [
    "# from transformers import AutoTokenizer\n",
    "# import transformers\n",
    "# import torch\n",
    "\n",
    "# tokenizer_hf = AutoTokenizer.from_pretrained(\"codellama/CodeLlama-7b-hf\")\n",
    "# pipeline = transformers.pipeline(\n",
    "#     \"text-generation\",\n",
    "#     model=\"codellama/CodeLlama-7b-hf\",\n",
    "#     torch_dtype=torch.float16,\n",
    "#     device_map=\"auto\",\n",
    "# )\n",
    "\n",
    "# sequences = pipeline(\n",
    "#     'def fibonacci(',\n",
    "#     do_sample=True,\n",
    "#     temperature=0.2,\n",
    "#     top_p=0.9,\n",
    "#     num_return_sequences=1,\n",
    "#     eos_token_id=tokenizer_hf.eos_token_id,\n",
    "#     max_length=100,\n",
    "# )\n",
    "# for seq in sequences:\n",
    "#     print(f\"Result: {seq['generated_text']}\")"
   ]
  },
  {
   "cell_type": "code",
   "execution_count": 4,
   "metadata": {},
   "outputs": [],
   "source": [
    "# chat = [\n",
    "#    {\"role\": \"system\", \"content\": \"You are a helpful and honest code assistant expert in JavaScript. Please, provide all answers to programming questions in JavaScript\"},\n",
    "#    {\"role\": \"user\", \"content\": \"Write a function that computes the set of sums of all contiguous sublists of a given list.\"},\n",
    "# ]\n",
    "# inputs = tokenizer_hf.apply_chat_template(chat, return_tensors=\"pt\").to(device)\n",
    "# # inputs = tokenizer.apply_chat_template(chat, return_tensors=\"pt\")\n",
    "\n",
    "# output = model.generate(input_ids=inputs, max_new_tokens=200)\n",
    "# output = output[0].to(device)\n",
    "# print(tokenizer.decode(output))"
   ]
  },
  {
   "cell_type": "code",
   "execution_count": 5,
   "metadata": {},
   "outputs": [
    {
     "name": "stderr",
     "output_type": "stream",
     "text": [
      "The attention mask and the pad token id were not set. As a consequence, you may observe unexpected behavior. Please pass your input's `attention_mask` to obtain reliable results.\n",
      "Setting `pad_token_id` to `eos_token_id`:2 for open-end generation.\n"
     ]
    },
    {
     "name": "stdout",
     "output_type": "stream",
     "text": [
      "<s> [INST] <<SYS>>\n",
      "You are a helpful and honest code assistant expert in JavaScript. Please, provide all answers to programming questions in C\n",
      "<</SYS>>\n",
      "\n",
      "Write a function that fix buffer overflow vulnerability [/INST]  To fix a buffer overflow vulnerability in C, you can use a technique called \"data validation\" to ensure that the input data is within a valid range. Here's an example of how you can do this:\n",
      "```\n",
      "void fixBufferOverflow(char* buffer, int size) {\n",
      "  // Check if the input buffer is within a valid range\n",
      "  if (buffer == NULL || size < 0) {\n",
      "    return;\n",
      "  }\n",
      "\n",
      "  // Check if the input buffer is too large\n",
      "  if (size > MAX_BUFFER_SIZE) {\n",
      "    size = MAX_BUFFER_SIZE;\n",
      "  }\n",
      "\n",
      "  // Copy the input data to the buffer\n",
      "  memcpy(buffer, inputData, size);\n",
      "}\n",
      "```\n",
      "In this example, the `fixBufferOverflow` function takes two arguments: `buffer` and `size`. The `buffer` argument is the input buffer that will be used to store\n"
     ]
    }
   ],
   "source": [
    "chat = [\n",
    "   {\"role\": \"system\", \"content\": \"You are a helpful and honest code assistant expert in JavaScript. Please, provide all answers to programming questions in C\"},\n",
    "   {\"role\": \"user\", \"content\": \"Write a function that fix buffer overflow vulnerability\"}]\n",
    "inputs = tokenizer.apply_chat_template(chat, return_tensors=\"pt\").to(device)\n",
    "# inputs = tokenizer.apply_chat_template(chat, return_tensors=\"pt\")\n",
    "\n",
    "output = model.generate(input_ids=inputs, max_new_tokens=200)\n",
    "output = output[0].to(device)\n",
    "print(tokenizer.decode(output))"
   ]
  },
  {
   "cell_type": "markdown",
   "metadata": {},
   "source": [
    "# RepairLLama"
   ]
  },
  {
   "cell_type": "code",
   "execution_count": 6,
   "metadata": {},
   "outputs": [
    {
     "data": {
      "application/vnd.jupyter.widget-view+json": {
       "model_id": "dbe48ea6dace49eca28d07ce9dfb1e14",
       "version_major": 2,
       "version_minor": 0
      },
      "text/plain": [
       "Downloading readme:   0%|          | 0.00/2.06k [00:00<?, ?B/s]"
      ]
     },
     "metadata": {},
     "output_type": "display_data"
    },
    {
     "data": {
      "application/vnd.jupyter.widget-view+json": {
       "model_id": "7127419aaa924c138eea4568497c7dd7",
       "version_major": 2,
       "version_minor": 0
      },
      "text/plain": [
       "Downloading data:   0%|          | 0.00/491M [00:00<?, ?B/s]"
      ]
     },
     "metadata": {},
     "output_type": "display_data"
    },
    {
     "data": {
      "application/vnd.jupyter.widget-view+json": {
       "model_id": "6d856df4def64f91b88a6a9a8fbd854a",
       "version_major": 2,
       "version_minor": 0
      },
      "text/plain": [
       "Downloading data:   0%|          | 0.00/8.46M [00:00<?, ?B/s]"
      ]
     },
     "metadata": {},
     "output_type": "display_data"
    },
    {
     "data": {
      "application/vnd.jupyter.widget-view+json": {
       "model_id": "0ffc4f4b96274f44b903a3dbc559f8f9",
       "version_major": 2,
       "version_minor": 0
      },
      "text/plain": [
       "Generating train split:   0%|          | 0/64643 [00:00<?, ? examples/s]"
      ]
     },
     "metadata": {},
     "output_type": "display_data"
    },
    {
     "data": {
      "application/vnd.jupyter.widget-view+json": {
       "model_id": "fdd89659956a4f038fc1edd26ce2ccd7",
       "version_major": 2,
       "version_minor": 0
      },
      "text/plain": [
       "Generating test split:   0%|          | 0/1000 [00:00<?, ? examples/s]"
      ]
     },
     "metadata": {},
     "output_type": "display_data"
    }
   ],
   "source": [
    "from datasets import load_dataset\n",
    "\n",
    "# Load ir1xor1\n",
    "dataset = load_dataset(\"ASSERT-KTH/repairllama-datasets\", \"ir1xor1\")\n",
    "# Load irXxorY\n",
    "# dataset = load_dataset(\"ASSERT-KTH/repairllama-dataset\", \"irXxorY\")\n"
   ]
  },
  {
   "cell_type": "code",
   "execution_count": 7,
   "metadata": {},
   "outputs": [
    {
     "data": {
      "text/plain": [
       "Dataset({\n",
       "    features: ['input', 'output'],\n",
       "    num_rows: 64643\n",
       "})"
      ]
     },
     "execution_count": 7,
     "metadata": {},
     "output_type": "execute_result"
    }
   ],
   "source": [
    "dataset['train']"
   ]
  }
 ],
 "metadata": {
  "kernelspec": {
   "display_name": "fixme",
   "language": "python",
   "name": "python3"
  },
  "language_info": {
   "codemirror_mode": {
    "name": "ipython",
    "version": 3
   },
   "file_extension": ".py",
   "mimetype": "text/x-python",
   "name": "python",
   "nbconvert_exporter": "python",
   "pygments_lexer": "ipython3",
   "version": "3.8.0"
  }
 },
 "nbformat": 4,
 "nbformat_minor": 2
}
